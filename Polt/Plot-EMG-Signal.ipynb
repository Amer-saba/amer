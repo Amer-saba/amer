{
 "cells": [
  {
   "cell_type": "markdown",
   "id": "ded3319d",
   "metadata": {},
   "source": [
    "# EMG-Praktikum 1\n",
    "Dieses Jupyter-Notebook besteht aus zwei Aufgabenteilen. In dem ersten Aufgabenteil beschreiben/kommentieren Sie eine Funktion in python. In dem zweiten Aufgabenteil schreiben Sie python-Code, der Ihnen das EMG-Signal plottet (wie in der Vorlesung dargestellt). Zur Vereinfachung werden Ihnen Kommentare gegeben.\n"
   ]
  },
  {
   "cell_type": "code",
   "execution_count": null,
   "id": "cbd1018d",
   "metadata": {},
   "outputs": [],
   "source": [
    "import pandas as pd\n",
    "import numpy as np\n",
    "import matplotlib.pyplot as plt\n",
    "fingerTypes = [\"kleiner Finger\",\"Ringfinger\",\"Mittelfinger\",\"Zeigefinger\",\"Daumen\"]"
   ]
  },
  {
   "cell_type": "markdown",
   "id": "7edb47be",
   "metadata": {},
   "source": [
    "### Aufgabe 1: Funktionserläuterung\n",
    "\n",
    "Beschreiben Sie die nachfolgende Funktion *drawFingerTypeLabe*. Erläutern Sie die Funktion der einzelnen Codezeilen mithilfe von Kommentaren. \n"
   ]
  },
  {
   "cell_type": "code",
   "execution_count": null,
   "id": "ec25912a",
   "metadata": {},
   "outputs": [],
   "source": [
    "def drawFingerTypeLabel(ax,df):\n",
    "    for i in range(0,5):\n",
    "        a = df[\"AktuellerFinger\"].values.searchsorted(i, side='left')\n",
    "        b = df[\"AktuellerFinger\"].values.searchsorted(i, side='right')\n",
    "        ax.axvline(x = a, alpha = 0.5, color = \"black\", linestyle = \"--\")\n",
    "        ax.text((b+a)/2, np.min(df[\"Wert\"]), fingerTypes[i],horizontalalignment='center')\n",
    "        if(b == len(df[\"AktuellerFinger\"])):\n",
    "            ax.axvline(x = b, alpha = 0.5, color = \"black\", linestyle = \"--\")"
   ]
  },
  {
   "cell_type": "markdown",
   "id": "a6a9dd29",
   "metadata": {},
   "source": [
    "### Aufgabe 2: Plotten der EMG-Signale\n",
    "Die aufgenommenen Messsignale liegen Ihnen als CSV-File vor. In dem nächsten Schritt wird Ihnen der Quellcode vorgegeben, mit dem Sie eine CSV-File einlesen können. Da die Dateinamen der CSV-File fortlaufend nummeriert sind, kann eine Schleife benutzt werden. Sie müssen lediglich den *signal_path* anpassen. \n",
    "\n",
    "Für das Plotten der EMG-Datensätze wird auf figures [Matplotlib-Dokumentation https://matplotlib.org/stable/api/figure_api.html ] zurückgegriffen.Erweitern Sie den vorgegeben Quellcode so, dass Sie Plots für Ihre EMG-Signale erhalten. Beachten Sie die Kommentare. Speichern Sie die Plots als SVG in Ihrer git-Repository ab. "
   ]
  },
  {
   "cell_type": "code",
   "execution_count": null,
   "id": "f0b8e121",
   "metadata": {},
   "outputs": [],
   "source": [
    "# Anzahl der Datensätze, die geplottet werden sollen\n",
    "anzahlDatasets = 9\n",
    "# Schleifendefinition\n",
    "for i in range(1,anzahlDatasets):\n",
    "    # signal_path = Speicherort der CSV-File\n",
    "    signal_path = '../Datasets/1/dataset' + str(i) + '.csv'\n",
    "    # Einlesen der CSV-File als DataFrame in die Variable df_file\n",
    "    df_file = pd.read_csv(signal_path)\n",
    "    \n",
    "    # Definition einer Figire mithilfe von matplotlib\n",
    "\n",
    "    # Definition eines Subplots mithilfe der erzeugten Figure\n",
    "\n",
    "    # Plotten der Messdaten auf dem definierten Subplot\n",
    "    \n",
    "    # Darstellung von Legende, title und x-/ylabel \n",
    "    \n",
    "    # Funktionsaufruf für die Darstellung der Fingerregionen (wie in der Vorlesung gezeigt)\n",
    "    \n",
    "    # Anzeige des Plots\n",
    "    \n",
    "    # Speichern des Plots als SVG-File. "
   ]
  }
 ],
 "metadata": {
  "kernelspec": {
   "display_name": "Python 3 (ipykernel)",
   "language": "python",
   "name": "python3"
  },
  "language_info": {
   "codemirror_mode": {
    "name": "ipython",
    "version": 3
   },
   "file_extension": ".py",
   "mimetype": "text/x-python",
   "name": "python",
   "nbconvert_exporter": "python",
   "pygments_lexer": "ipython3",
   "version": "3.9.7"
  }
 },
 "nbformat": 4,
 "nbformat_minor": 5
}
